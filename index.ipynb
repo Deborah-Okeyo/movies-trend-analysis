{
 "cells": [
  {
   "cell_type": "markdown",
   "metadata": {},
   "source": [
    "# FROM SCRIPT TO SCREEN: WHAT MAKES BOX OFFICE HIT?"
   ]
  },
  {
   "cell_type": "markdown",
   "metadata": {},
   "source": [
    "*Project by: GROUP 8*\n",
    "\n",
    "1.Deborah Okeyo\n",
    "\n",
    "2.Marion Macharia\n",
    "\n",
    "3.David Chege\n",
    "\n",
    "4.Evans Oyugi"
   ]
  },
  {
   "cell_type": "markdown",
   "metadata": {},
   "source": [
    "# 1. Introduction"
   ]
  },
  {
   "cell_type": "markdown",
   "metadata": {},
   "source": [
    "# 1.1 Overview"
   ]
  },
  {
   "cell_type": "markdown",
   "metadata": {},
   "source": [
    "Applying exploratory data analysis to provide insights for a Microsoft stakeholder on which types of films to produce."
   ]
  },
  {
   "cell_type": "markdown",
   "metadata": {},
   "source": [
    "## 1.2 Business Understanding"
   ]
  },
  {
   "cell_type": "markdown",
   "metadata": {},
   "source": [
    "*Objective*"
   ]
  },
  {
   "cell_type": "markdown",
   "metadata": {},
   "source": [
    "The goal of this project is to use exploratory data analysis (EDA) to draw insights to aid the making of a new movie studio looking to enter the film industry and needs to determine which types of films are currently est performing at the box office. By analyzing various datasets related to movie performance. The objective is to identify trends and characteristics of successful films that can guide the studio’s content creation strategy."
   ]
  },
  {
   "cell_type": "markdown",
   "metadata": {},
   "source": [
    "*Business context*"
   ]
  },
  {
   "cell_type": "markdown",
   "metadata": {},
   "source": [
    "Wit the evolution of film industry, understanding the market and consumer preferences is essential for new entrants. A new movie studio must leverage data-driven insights to make informed decisions about film production. The business wants to identify which factors contribute to box office success to maximize their investment and ensure their film offerings align with market demands."
   ]
  },
  {
   "cell_type": "markdown",
   "metadata": {},
   "source": [
    "# 2. Data Understanding"
   ]
  },
  {
   "cell_type": "markdown",
   "metadata": {},
   "source": [
    "## 2.1 Data"
   ]
  },
  {
   "cell_type": "markdown",
   "metadata": {},
   "source": [
    "The folder containing the data is called \"zippedData\" which contains movie datasets from:\n",
    "\n",
    "1. Box Office Mojo- an online database providing detailed information on box office revenues\n",
    "\n",
    "2. IMDB- a comprehensive database of movie and TV information\n",
    "\n",
    "3. Rotten Tomatoes- a review aggregation website for films and TV shows\n",
    "\n",
    "4. TheMovieDB- a community-driven movie and TV database\n",
    "\n",
    "5. The Numbers- a database providing box office revenue information and other film metrics\n",
    "\n",
    "The files are in different formats namely CSV and TSV files and can be opened using the pd.read_csv.\n",
    "Data from IMDB is in a SQLite Database.\n",
    "\n",
    "Data from the TSV files was not used because it didn't have the data neede for this analysis. Only the compressed CSV files and unzipped IMDB file were used.\n",
    "\n",
    "Dataset used in the analysis is named \"movies_df\". It has 1001 rows and 10 columns. The columns are:\n",
    "\n",
    "1. movie - name of film\n",
    "\n",
    "2. runtime_minutes - total minutes of a film\n",
    "\n",
    "3. genres - types of films\n",
    "\n",
    "4. averagerating - average rating of individual films\n",
    "\n",
    "5. production_budget - total production budget for the film\n",
    "\n",
    "6. month - release month \n",
    "\n",
    "7. profit - total amount remaining production budget from total gross\n",
    "\n",
    "8. original_language - film language\n",
    "\n",
    "9. popularity - how popular a film is\n",
    "\n",
    "10. year - release year \n",
    "\n",
    "In order to provide recommendations, this analysis will address the following questions:\n",
    "\n",
    "1.What genres of films are performing best at the box office?\n",
    "\n",
    "2.Which languages are most successful in terms of box office revenue?\n",
    "\n",
    "3.How does the month of release impact profitability?\n",
    "\n",
    "4.Is there a correlation between the duration of films and other factors?"
   ]
  },
  {
   "cell_type": "markdown",
   "metadata": {},
   "source": [
    "## 2.2 Loading Libraries"
   ]
  }
 ],
 "metadata": {
  "language_info": {
   "name": "python"
  }
 },
 "nbformat": 4,
 "nbformat_minor": 2
}
